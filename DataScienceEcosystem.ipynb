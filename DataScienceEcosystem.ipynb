{
 "cells": [
  {
   "cell_type": "markdown",
   "id": "80274fbe-f7d8-46a0-9930-901e851d7cd9",
   "metadata": {},
   "source": [
    "# Data Science Tools and Ecosystem"
   ]
  },
  {
   "cell_type": "markdown",
   "id": "25ad8f62-ba00-410e-8529-6c703158efd2",
   "metadata": {},
   "source": [
    "In this notebook, Data Science Tools and Ecosystem are summarized.\n"
   ]
  },
  {
   "cell_type": "markdown",
   "id": "3b21fe68-3383-4b69-9a84-173d8e249ead",
   "metadata": {},
   "source": [
    "Some of the popular languages that Data Scientists use are:\n",
    "\n",
    "1. Python\n",
    "2. R\n",
    "3. SQL\n",
    "4. Java\n",
    "5. Julia"
   ]
  },
  {
   "cell_type": "markdown",
   "id": "c8b16593-3515-4463-9ffa-fac16a8a2658",
   "metadata": {},
   "source": [
    "Some of the commonly used libraries used by Data Scientists include:\n",
    "\n",
    "1. TensorFlow.\n",
    "2. NumPy.\n",
    "3. SciPy.\n",
    "4. Pandas.\n",
    "5. Matplotlib.\n",
    "6. Keras.\n",
    "7. SciKit-Learn.\n",
    "8. PyTorch.\n"
   ]
  },
  {
   "cell_type": "markdown",
   "id": "ee3387bc-fc8b-43a4-8c96-4ead08754d58",
   "metadata": {},
   "source": [
    "|Data Science Tools|\n",
    "|------|\n",
    "|TensorFlow|\n",
    "|RStudio|\n",
    "|Apache Spark|"
   ]
  },
  {
   "cell_type": "markdown",
   "id": "d174c2ae-3c9d-436d-a7d9-8776e4250039",
   "metadata": {},
   "source": [
    "### Below are a few examples of evaluating arithmetic expressions in Python."
   ]
  },
  {
   "cell_type": "code",
   "execution_count": 2,
   "id": "b887bec2-decd-4e7b-9839-0328b7b33757",
   "metadata": {
    "tags": []
   },
   "outputs": [
    {
     "data": {
      "text/plain": [
       "17"
      ]
     },
     "execution_count": 2,
     "metadata": {},
     "output_type": "execute_result"
    }
   ],
   "source": [
    "# This a simple arithmetic expression to mutiply then add integers\n",
    "(3*4)+5"
   ]
  },
  {
   "cell_type": "code",
   "execution_count": 3,
   "id": "3448d9af-b101-4332-ab75-baba16a65312",
   "metadata": {
    "tags": []
   },
   "outputs": [
    {
     "data": {
      "text/plain": [
       "3.3333333333333335"
      ]
     },
     "execution_count": 3,
     "metadata": {},
     "output_type": "execute_result"
    }
   ],
   "source": [
    "# This will convert 200 minutes to hours by diving by 60\n",
    "\n",
    "200/60"
   ]
  },
  {
   "cell_type": "markdown",
   "id": "64e0a254-9816-4ae9-8d78-bb1a878c43b7",
   "metadata": {},
   "source": [
    "*Objectives:*\n",
    "\n",
    "- Identify languages used in Data Science\n",
    "- Identify Open source Tools used in Data Science\n",
    "- Check if the student understand the jupyter notebook environment\n"
   ]
  },
  {
   "cell_type": "markdown",
   "id": "ab77af10-03a2-4040-aacc-da9139003ce4",
   "metadata": {},
   "source": [
    "## Author\n",
    "\n",
    "Gery Febrian"
   ]
  },
  {
   "cell_type": "markdown",
   "id": "d444b712-b399-460e-8841-833a5578f033",
   "metadata": {},
   "source": [
    "Upload your notebook to a public respository on GitHub.\n",
    "https://github.com/GeryFebrian/Gery_IBM_Data_Science"
   ]
  },
  {
   "cell_type": "code",
   "execution_count": null,
   "id": "f211dce1-d622-4780-935a-eaf01632fc31",
   "metadata": {},
   "outputs": [],
   "source": []
  }
 ],
 "metadata": {
  "kernelspec": {
   "display_name": "Python",
   "language": "python",
   "name": "conda-env-python-py"
  },
  "language_info": {
   "codemirror_mode": {
    "name": "ipython",
    "version": 3
   },
   "file_extension": ".py",
   "mimetype": "text/x-python",
   "name": "python",
   "nbconvert_exporter": "python",
   "pygments_lexer": "ipython3",
   "version": "3.7.12"
  }
 },
 "nbformat": 4,
 "nbformat_minor": 5
}
